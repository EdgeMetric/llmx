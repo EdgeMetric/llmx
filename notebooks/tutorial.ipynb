{
 "cells": [
  {
   "cell_type": "code",
   "execution_count": 5,
   "metadata": {},
   "outputs": [],
   "source": [
    "from llmx.generators.text.textgen import TextGenerator\n",
    "from llmx.datamodel import TextGenerationConfig"
   ]
  },
  {
   "cell_type": "code",
   "execution_count": 6,
   "metadata": {},
   "outputs": [],
   "source": [
    "config = TextGenerationConfig(\n",
    "    model=\"gpt-3.5-turbo-0301\",\n",
    "    n=1,\n",
    "    temperature=0.5,\n",
    "    max_tokens=100,\n",
    "    top_p=1.0,\n",
    "    top_k=50,\n",
    "    frequency_penalty=0.0,\n",
    "    presence_penalty=0.0,\n",
    "    messages =  [\n",
    "        {\"role\": \"user\", \"content\": \"What is the height of the Eiffel Tower?\"},\n",
    "    ]\n",
    ")"
   ]
  },
  {
   "attachments": {},
   "cell_type": "markdown",
   "metadata": {},
   "source": [
    "## Multiple Providers - OpenAI, PaLM etc"
   ]
  },
  {
   "cell_type": "code",
   "execution_count": 7,
   "metadata": {},
   "outputs": [
    {
     "name": "stdout",
     "output_type": "stream",
     "text": [
      "The height of the Eiffel Tower is 324 meters (1,063 feet).\n"
     ]
    }
   ],
   "source": [
    "openai_gen = TextGenerator(provider=\"openai\")\n",
    "openai_response = openai_gen.generate(config=config, use_cache=False)\n",
    "print(openai_response.text[0].content)"
   ]
  },
  {
   "cell_type": "code",
   "execution_count": 8,
   "metadata": {},
   "outputs": [
    {
     "name": "stdout",
     "output_type": "stream",
     "text": [
      "The Eiffel Tower is 324 meters (1,063 ft) tall, about the same height as an 81-story building, and the tallest structure in Paris. It is the most-visited paid monument in the world; 6.91 million people ascended it in 2015.\n"
     ]
    }
   ],
   "source": [
    "config.model = \"models/chat-bison-001\" # important to set the right model name\n",
    "palm_gen = TextGenerator(provider=\"palm\")\n",
    "palm_response = palm_gen.generate(config=config, use_cache=False)\n",
    "print(palm_response.text[0].content)"
   ]
  }
 ],
 "metadata": {
  "kernelspec": {
   "display_name": "base",
   "language": "python",
   "name": "python3"
  },
  "language_info": {
   "codemirror_mode": {
    "name": "ipython",
    "version": 3
   },
   "file_extension": ".py",
   "mimetype": "text/x-python",
   "name": "python",
   "nbconvert_exporter": "python",
   "pygments_lexer": "ipython3",
   "version": "3.11.4"
  },
  "orig_nbformat": 4
 },
 "nbformat": 4,
 "nbformat_minor": 2
}
