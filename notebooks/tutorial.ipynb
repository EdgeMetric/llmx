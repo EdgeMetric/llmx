{
 "cells": [
  {
   "cell_type": "code",
   "execution_count": 7,
   "metadata": {},
   "outputs": [],
   "source": [
    "from llmx import  text_generator as generator\n",
    "from llmx.datamodel import TextGenerationConfig"
   ]
  },
  {
   "cell_type": "code",
   "execution_count": 8,
   "metadata": {},
   "outputs": [],
   "source": [
    "config = TextGenerationConfig( \n",
    "    n=1,\n",
    "    temperature=0.8,\n",
    "    max_tokens=100,\n",
    "    top_p=1.0,\n",
    "    top_k=50,\n",
    "    frequency_penalty=0.0,\n",
    "    presence_penalty=0.0,\n",
    ")\n",
    "messages =  messages = [\n",
    "    {\"role\": \"system\", \"content\": \"You are a helpful assistant that can explain concepts clearly to a 6 year old child.\"},\n",
    "    {\"role\": \"user\", \"content\": \"What is  gravity?\"}\n",
    "]"
   ]
  },
  {
   "attachments": {},
   "cell_type": "markdown",
   "metadata": {},
   "source": [
    "## Multiple Providers - OpenAI, PaLM etc"
   ]
  },
  {
   "cell_type": "code",
   "execution_count": 13,
   "metadata": {},
   "outputs": [
    {
     "name": "stdout",
     "output_type": "stream",
     "text": [
      "Gravity is like a special invisible force that pulls things towards each other. It's what keeps us on the ground instead of floating off into space! It's also what makes things fall when you drop them. Imagine if you're holding a toy and you let it go, it falls down, right? That's gravity pulling it towards the ground.\n"
     ]
    }
   ],
   "source": [
    "openai_gen = generator(provider=\"openai\")\n",
    "openai_config = TextGenerationConfig(model=\"gpt-4\", use_cache=True)\n",
    "openai_response = openai_gen.generate(messages, config=openai_config)\n",
    "print(openai_response.text[0].content)"
   ]
  },
  {
   "cell_type": "code",
   "execution_count": null,
   "metadata": {},
   "outputs": [
    {
     "name": "stdout",
     "output_type": "stream",
     "text": [
      "Gravity is a force that pulls objects towards each other. The more massive an object is, the stronger its gravitational pull. The Earth is very massive, so it has a strong gravitational pull. This is why we don't float off into space. The Moon is also massive, but it is much smaller than the Earth. This means that its gravitational pull is not as strong. This is why the Moon orbits the Earth, instead of the other way around.\n",
      "\n",
      "Gravity is a very important force in the universe. It is what keeps the planets in orbit around the Sun, and it is what keeps the Moon in orbit around the Earth. It is also what keeps us on the ground. Without gravity, we would all float off into space.\n",
      "\n",
      "Gravity is a very mysterious force. We don't really know what causes it. We do know that it is related to mass, but we don't know exactly how. Scientists are still working on trying to understand gravity.\n",
      "\n",
      "One way to think about gravity is to imagine a trampoline. If you put a bowling ball in the middle of the trampoline, it will make a dent in the trampoline. If you then put a marble on the trampoline, the marble will roll towards the bowling ball. This is because the bowling ball is more massive than the marble, and it has a stronger gravitational pull.\n",
      "\n",
      "The Earth is like the bowling ball, and we are like the marble. The Earth's gravity pulls us towards the center of the Earth, which is why we don't float off into space.\n",
      "\n",
      "Gravity is a very important force in the universe. It is what keeps the planets in orbit around the Sun, and it is what keeps the Moon in orbit around the Earth. It is also what keeps us on the ground. Without gravity, we would all float off into space.\n"
     ]
    }
   ],
   "source": [
    "palm_gen = generator(provider=\"palm\")\n",
    "palm_config = TextGenerationConfig(model=\"models/codechat-bison-001\", temperature=0, max_tokens=50, use_cache=False)\n",
    "palm_response = palm_gen.generate(messages, config=palm_config)\n",
    "print(palm_response.text[0].content)"
   ]
  },
  {
   "cell_type": "code",
   "execution_count": 17,
   "metadata": {},
   "outputs": [
    {
     "name": "stdout",
     "output_type": "stream",
     "text": [
      "Gravity is a force that pulls things together. It's what makes things fall to the ground and what holds us on the earth. It's also what makes the moon orbit the earth and the planets orbit the sun. Gravity is a fundamental force of nature\n"
     ]
    }
   ],
   "source": [
    "cohere_gen = generator(provider=\"cohere\")\n",
    "cohere_config = TextGenerationConfig(model=\"command\", max_tokens=50, use_cache=True)\n",
    "cohere_response = cohere_gen.generate(messages, config=cohere_config)\n",
    "print(cohere_response.text[0].content)"
   ]
  },
  {
   "cell_type": "code",
   "execution_count": null,
   "metadata": {},
   "outputs": [],
   "source": []
  }
 ],
 "metadata": {
  "kernelspec": {
   "display_name": "base",
   "language": "python",
   "name": "python3"
  },
  "language_info": {
   "codemirror_mode": {
    "name": "ipython",
    "version": 3
   },
   "file_extension": ".py",
   "mimetype": "text/x-python",
   "name": "python",
   "nbconvert_exporter": "python",
   "pygments_lexer": "ipython3",
   "version": "3.11.4"
  },
  "orig_nbformat": 4
 },
 "nbformat": 4,
 "nbformat_minor": 2
}
