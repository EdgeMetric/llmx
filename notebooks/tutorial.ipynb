{
 "cells": [
  {
   "cell_type": "code",
   "execution_count": 1,
   "metadata": {},
   "outputs": [],
   "source": [
    "from llmx import  text_generator as generator\n",
    "from llmx.datamodel import TextGenerationConfig"
   ]
  },
  {
   "cell_type": "code",
   "execution_count": 2,
   "metadata": {},
   "outputs": [],
   "source": [
    "config = TextGenerationConfig( \n",
    "    n=3,\n",
    "    temperature=0.8,\n",
    "    max_tokens=100,\n",
    "    top_p=1.0,\n",
    "    top_k=50,\n",
    "    frequency_penalty=0.0,\n",
    "    presence_penalty=0.0,\n",
    ")\n",
    "messages =  [ {\"role\": \"user\", \"content\": \"What is the height of the eiffel tower? Only respond with the exact correst answer.\"}]"
   ]
  },
  {
   "attachments": {},
   "cell_type": "markdown",
   "metadata": {},
   "source": [
    "## Multiple Providers - OpenAI, PaLM etc"
   ]
  },
  {
   "cell_type": "code",
   "execution_count": 3,
   "metadata": {},
   "outputs": [
    {
     "name": "stdout",
     "output_type": "stream",
     "text": [
      "The Eiffel Tower is approximately 330 meters (1,083 feet) tall.\n"
     ]
    }
   ],
   "source": [
    "openai_gen = generator(provider=\"openai\")\n",
    "openai_config = TextGenerationConfig(model=\"gpt-4\", max_tokens=50)\n",
    "openai_response = openai_gen.generate(messages, config=openai_config, use_cache=True)\n",
    "print(openai_response.text[0].content)"
   ]
  },
  {
   "cell_type": "code",
   "execution_count": 4,
   "metadata": {},
   "outputs": [
    {
     "name": "stdout",
     "output_type": "stream",
     "text": [
      "The Eiffel Tower is 324 meters (1,063 ft) tall, about the same height as an 81-story building, and the tallest structure in Paris.\n"
     ]
    }
   ],
   "source": [
    "palm_gen = generator(provider=\"palm\")\n",
    "palm_config = TextGenerationConfig(model=\"models/chat-bison-001\", max_tokens=50)\n",
    "palm_response = palm_gen.generate(messages, config=palm_config, use_cache=True)\n",
    "print(palm_response.text[0].content)"
   ]
  },
  {
   "cell_type": "code",
   "execution_count": 6,
   "metadata": {},
   "outputs": [
    {
     "name": "stdout",
     "output_type": "stream",
     "text": [
      " The Eiffel Tower is a tall iron structure in Paris, France. It is the tallest structure in Paris, standing at 1,063 feet (324 meters). The tower was designed by Gustave Eiffel and was built in the late 1800s. It is\n"
     ]
    }
   ],
   "source": [
    "cohere_gen = generator(provider=\"cohere\")\n",
    "cohere_config = TextGenerationConfig(model=\"command\", max_tokens=50)\n",
    "cohere_response = cohere_gen.generate(messages, config=cohere_config, use_cache=True)\n",
    "print(cohere_response.text[0].content)"
   ]
  },
  {
   "cell_type": "code",
   "execution_count": null,
   "metadata": {},
   "outputs": [],
   "source": []
  }
 ],
 "metadata": {
  "kernelspec": {
   "display_name": "base",
   "language": "python",
   "name": "python3"
  },
  "language_info": {
   "codemirror_mode": {
    "name": "ipython",
    "version": 3
   },
   "file_extension": ".py",
   "mimetype": "text/x-python",
   "name": "python",
   "nbconvert_exporter": "python",
   "pygments_lexer": "ipython3",
   "version": "3.11.4"
  },
  "orig_nbformat": 4
 },
 "nbformat": 4,
 "nbformat_minor": 2
}
